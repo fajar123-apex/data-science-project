{
 "cells": [
  {
   "cell_type": "code",
   "execution_count": 1,
   "metadata": {},
   "outputs": [],
   "source": [
    "import pandas as pd\n",
    "import numpy as np\n",
    "from sklearn.neighbors import KNeighborsClassifier\n",
    "import os"
   ]
  },
  {
   "cell_type": "code",
   "execution_count": 2,
   "metadata": {},
   "outputs": [
    {
     "data": {
      "text/plain": [
       "(9599, 12)"
      ]
     },
     "execution_count": 2,
     "metadata": {},
     "output_type": "execute_result"
    }
   ],
   "source": [
    "#import all data set\n",
    "os.chdir(\"D:\\KULIAH\\WEBINAR\\DATA SCIENCE\\PROJECT\")\n",
    "df_train=pd.read_csv(\"train.csv\")\n",
    "df_test=pd.read_csv(\"test.csv\")\n",
    "test_id=df_test.copy(deep=True)\n",
    "df_test.shape"
   ]
  },
  {
   "cell_type": "code",
   "execution_count": 3,
   "metadata": {},
   "outputs": [],
   "source": [
    "#fill the missing value vith nan\n",
    "\n",
    "df_test[\"Umur\"].replace(to_replace=\"?\", value=np.nan,inplace=True)\n",
    "df_test[\"Kelas Pekerja\"].replace(to_replace=\"?\", value=np.nan,inplace=True)\n",
    "df_test[\"Pendidikan\"].replace(to_replace=\"?\", value=np.nan,inplace=True)\n",
    "df_test[\"Jmlh Tahun Pendidikan\"].replace(to_replace=\"?\", value=np.nan,inplace=True)\n",
    "df_test[\"Status Perkawinan\"].replace(to_replace=\"?\", value=np.nan,inplace=True)\n",
    "df_test[\"Pekerjaan\"].replace(to_replace=\"?\", value=np.nan,inplace=True)\n",
    "df_test[\"Jenis Kelamin\"].replace(to_replace=\"?\", value=np.nan,inplace=True)\n",
    "df_test[\"Jam per Minggu\"].replace(to_replace=\"?\", value=np.nan,inplace=True)\n",
    "\n",
    "\n",
    "\n",
    "\n",
    "df_train[\"Umur\"].replace(to_replace=\"?\", value=np.nan,inplace=True)\n",
    "df_train[\"Kelas Pekerja\"].replace(to_replace=\"?\", value=np.nan,inplace=True)\n",
    "df_train[\"Pendidikan\"].replace(to_replace=\"?\", value=np.nan,inplace=True)\n",
    "df_train[\"Jmlh Tahun Pendidikan\"].replace(to_replace=\"?\", value=np.nan,inplace=True)\n",
    "df_train[\"Status Perkawinan\"].replace(to_replace=\"?\", value=np.nan,inplace=True)\n",
    "df_train[\"Pekerjaan\"].replace(to_replace=\"?\", value=np.nan,inplace=True)\n",
    "df_train[\"Jenis Kelamin\"].replace(to_replace=\"?\", value=np.nan,inplace=True)\n",
    "df_train[\"Jam per Minggu\"].replace(to_replace=\"?\", value=np.nan,inplace=True)\n",
    "df_train[\"Gaji\"].replace(to_replace=\"?\", value=np.nan,inplace=True)"
   ]
  },
  {
   "cell_type": "code",
   "execution_count": 4,
   "metadata": {},
   "outputs": [
    {
     "data": {
      "text/plain": [
       "(9599, 12)"
      ]
     },
     "execution_count": 4,
     "metadata": {},
     "output_type": "execute_result"
    }
   ],
   "source": [
    "#drop missing value\n",
    "train=df_train.fillna(method=\"ffill\")\n",
    "test=df_test.fillna(method=\"ffill\")\n",
    "test_id=test.copy(deep=True)\n",
    "test.shape"
   ]
  },
  {
   "cell_type": "code",
   "execution_count": 5,
   "metadata": {},
   "outputs": [
    {
     "ename": "SyntaxError",
     "evalue": "invalid syntax (<ipython-input-5-617f131e0b7e>, line 3)",
     "output_type": "error",
     "traceback": [
      "\u001b[1;36m  File \u001b[1;32m\"<ipython-input-5-617f131e0b7e>\"\u001b[1;36m, line \u001b[1;32m3\u001b[0m\n\u001b[1;33m    df_test= df_test.drop([,\"id\",\"Berat Akhir\"],axis=1)\u001b[0m\n\u001b[1;37m                           ^\u001b[0m\n\u001b[1;31mSyntaxError\u001b[0m\u001b[1;31m:\u001b[0m invalid syntax\n"
     ]
    }
   ],
   "source": [
    "#drop data that we dont use\n",
    "df_train=df_train.drop([\"id\",\"Berat Akhir\"],axis=1)\n",
    "df_test= df_test.drop([,\"id\",\"Berat Akhir\"],axis=1)\n",
    "\n",
    "#df1=df_trainnew.dropna(axis=\"rows\")\n",
    "#df2=df_testnew.dropna(axis=\"rows\")\n",
    "df_test.shape"
   ]
  },
  {
   "cell_type": "code",
   "execution_count": null,
   "metadata": {},
   "outputs": [],
   "source": [
    "df_train"
   ]
  },
  {
   "cell_type": "code",
   "execution_count": null,
   "metadata": {},
   "outputs": [],
   "source": [
    "train[\"Kelas Pekerja\"].replace(to_replace=[\"Wiraswasta\",\"Pekerja Bebas Bukan Perusahan\",\"Pemerintah Lokal\",\"Pemerintah Negara\",\"Pekerja Bebas Perusahaan\",\"Pemerintah Provinsi\",\"Tanpa di Bayar\",\"Tidak Pernah Bekerja\"],value=[0,1,2,3,4,5,6,7],inplace=True)\n",
    "test[\"Kelas Pekerja\"].replace(to_replace=[\"Wiraswasta\",\"Pekerja Bebas Bukan Perusahan\",\"Pemerintah Lokal\",\"Pemerintah Negara\",\"Pekerja Bebas Perusahaan\",\"Pemerintah Provinsi\",\"Tanpa di Bayar\",\"Tidak Pernah Bekerja\"],value=[0,1,2,3,4,5,6,7],inplace=True)"
   ]
  },
  {
   "cell_type": "code",
   "execution_count": null,
   "metadata": {},
   "outputs": [],
   "source": [
    "train[\"Pendidikan\"].replace(['SMA', 'Pendidikan Tinggi', 'Sarjana', 'Master', 'D4', '11th', 'D3',\n",
    "       '10th', '7th-8th', 'Sekolah Professional', '9th', '12th', 'Doktor',\n",
    "       '5th-6th', '1st-4th', 'SD'],[0,1,2,3,4,5,6,7,8,9,10,11,12,13,14,15],inplace=True)\n",
    "\n",
    "test[\"Pendidikan\"].replace(['SMA', 'Pendidikan Tinggi', 'Sarjana', 'Master', 'D4', '11th', 'D3',\n",
    "       '10th', '7th-8th', 'Sekolah Professional', '9th', '12th', 'Doktor',\n",
    "       '5th-6th', '1st-4th', 'SD'],[0,1,2,3,4,5,6,7,8,9,10,11,12,13,14,15],inplace=True)"
   ]
  },
  {
   "cell_type": "code",
   "execution_count": null,
   "metadata": {},
   "outputs": [],
   "source": [
    "train[\"Status Perkawinan\"].replace(['Menikah', 'Belum Pernah Menikah', 'Cerai', 'Berpisah', 'Janda',\n",
    "       'Menikah LDR'],[0,1,2,3,4,5],inplace=True)\n",
    "test[\"Status Perkawinan\"].replace(['Menikah', 'Belum Pernah Menikah', 'Cerai', 'Berpisah', 'Janda',\n",
    "       'Menikah LDR'],[0,1,2,3,4,5],inplace=True)"
   ]
  },
  {
   "cell_type": "code",
   "execution_count": null,
   "metadata": {},
   "outputs": [],
   "source": [
    "train[\"Pekerjaan\"].replace(['Spesialis', 'Perbaikan Kerajinan', 'Ekesekutif Managerial',\n",
    "       'Pemuka Agama', 'Sales', 'Servis Lainnya', 'Mesin Inspeksi', 'Supir',\n",
    "       'Pembersih', 'Petani', 'Tech-support', 'Penjaga',\n",
    "       'Asisten Rumah Tangga', 'Tentara'],[0,1,2,3,4,5,6,7,8,9,10,11,12,13],inplace=True)\n",
    "test[\"Pekerjaan\"].replace(['Spesialis', 'Perbaikan Kerajinan', 'Ekesekutif Managerial',\n",
    "       'Pemuka Agama', 'Sales', 'Servis Lainnya', 'Mesin Inspeksi', 'Supir',\n",
    "       'Pembersih', 'Petani', 'Tech-support', 'Penjaga',\n",
    "       'Asisten Rumah Tangga', 'Tentara'],[0,1,2,3,4,5,6,7,8,9,10,11,12,13],inplace=True)"
   ]
  },
  {
   "cell_type": "code",
   "execution_count": null,
   "metadata": {},
   "outputs": [],
   "source": [
    "train[\"Jenis Kelamin\"].replace(['Laki2', 'Perempuan'],[0,1],inplace=True)\n",
    "test[\"Jenis Kelamin\"].replace(['Laki2', 'Perempuan'],[0,1],inplace=True)"
   ]
  },
  {
   "cell_type": "code",
   "execution_count": null,
   "metadata": {},
   "outputs": [],
   "source": [
    "train[\"Gaji\"].replace(['<=7jt', '>7jt'],[0,1],inplace=True)\n"
   ]
  },
  {
   "cell_type": "code",
   "execution_count": null,
   "metadata": {},
   "outputs": [],
   "source": [
    "#split train data to x and y\n",
    "X=train.drop(\"Gaji\",axis=1)\n",
    "y=train[\"Gaji\"]"
   ]
  },
  {
   "cell_type": "code",
   "execution_count": null,
   "metadata": {},
   "outputs": [],
   "source": [
    "#make classifier model\n",
    "from sklearn.neighbors import KNeighborsClassifier\n",
    "knn_model=KNeighborsClassifier(n_neighbors=19,)"
   ]
  },
  {
   "cell_type": "code",
   "execution_count": null,
   "metadata": {},
   "outputs": [],
   "source": [
    "#ploting prediction score\n",
    "import matplotlib.pyplot as plt\n",
    "fig,ax = plt.subplots(figsize=(15,10))\n",
    "\n",
    "ax.plot(k_range,uniform_score,label=\"uniform score\",marker=\"o\")\n",
    "ax.plot(k_range,distance_score,label=\"distance score\",marker=\"o\")\n",
    "ax.set_xlabel(\"K-Value\")\n",
    "ax.set_ylabel(\"Score\")\n",
    "ax.set_title(\"Scores Comparing Between Uniform and Distance\")\n",
    "fig.legend()"
   ]
  },
  {
   "cell_type": "code",
   "execution_count": null,
   "metadata": {},
   "outputs": [],
   "source": [
    "#train the data\n",
    "knn_model.fit(X,y)"
   ]
  },
  {
   "cell_type": "code",
   "execution_count": null,
   "metadata": {},
   "outputs": [],
   "source": [
    "#get the data predict\n",
    "y_predict=knn_model.predict(test)"
   ]
  },
  {
   "cell_type": "code",
   "execution_count": null,
   "metadata": {},
   "outputs": [],
   "source": [
    "submission = pd.DataFrame({'id':test_id['id'],'Gaji':y_predict})\n",
    "submission=submission.set_index([\"id\"])\n",
    "\n",
    "\n"
   ]
  },
  {
   "cell_type": "code",
   "execution_count": null,
   "metadata": {},
   "outputs": [],
   "source": [
    "#save to csv\n",
    "submission.to_csv(\"Prediksi_Gaji4.csv\")\n",
    "!dir"
   ]
  },
  {
   "cell_type": "code",
   "execution_count": null,
   "metadata": {},
   "outputs": [],
   "source": [
    "print(len(submission))\n"
   ]
  }
 ],
 "metadata": {
  "kernelspec": {
   "display_name": "Python 3",
   "language": "python",
   "name": "python3"
  },
  "language_info": {
   "codemirror_mode": {
    "name": "ipython",
    "version": 3
   },
   "file_extension": ".py",
   "mimetype": "text/x-python",
   "name": "python",
   "nbconvert_exporter": "python",
   "pygments_lexer": "ipython3",
   "version": "3.8.3"
  }
 },
 "nbformat": 4,
 "nbformat_minor": 4
}
